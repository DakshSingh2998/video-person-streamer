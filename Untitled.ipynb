{
 "cells": [
  {
   "cell_type": "code",
   "execution_count": null,
   "id": "3853f51b",
   "metadata": {},
   "outputs": [
    {
     "name": "stderr",
     "output_type": "stream",
     "text": [
      "WebSocket transport not available. Install simple-websocket for improved performance.\n"
     ]
    },
    {
     "name": "stdout",
     "output_type": "stream",
     "text": [
      "1\n",
      " * Serving Flask app '__main__' (lazy loading)\n",
      " * Environment: production\n",
      "\u001b[31m   WARNING: This is a development server. Do not use it in a production deployment.\u001b[0m\n",
      "\u001b[2m   Use a production WSGI server instead.\u001b[0m\n",
      " * Debug mode: off\n"
     ]
    },
    {
     "name": "stderr",
     "output_type": "stream",
     "text": [
      " * Running on all addresses.\n",
      "   WARNING: This is a development server. Do not use it in a production deployment.\n",
      " * Running on http://192.168.1.10:555/ (Press CTRL+C to quit)\n",
      "192.168.1.10 - - [10/May/2022 02:00:01] \"GET / HTTP/1.1\" 200 -\n",
      "The WebSocket transport is not available, you must install a WebSocket server that is compatible with your async mode to enable it. See the documentation for details. (further occurrences of this error will be logged with level INFO)\n",
      "192.168.1.10 - - [10/May/2022 02:00:01] \"GET /socket.io/?EIO=4&transport=polling&t=O2gWxgM HTTP/1.1\" 200 -\n",
      "192.168.1.10 - - [10/May/2022 02:00:01] \"POST /socket.io/?EIO=4&transport=polling&t=O2gWxgW&sid=Eyw1sZ6Wp24kZB98AAAA HTTP/1.1\" 200 -\n",
      "192.168.1.10 - - [10/May/2022 02:00:01] \"GET /socket.io/?EIO=4&transport=polling&t=O2gWxgX&sid=Eyw1sZ6Wp24kZB98AAAA HTTP/1.1\" 200 -\n",
      "192.168.1.10 - - [10/May/2022 02:00:01] \"POST /socket.io/?EIO=4&transport=polling&t=O2gWxgh&sid=Eyw1sZ6Wp24kZB98AAAA HTTP/1.1\" 200 -\n",
      "192.168.1.10 - - [10/May/2022 02:00:01] \"GET /video_feed HTTP/1.1\" 200 -\n"
     ]
    },
    {
     "name": "stdout",
     "output_type": "stream",
     "text": [
      "connected\n"
     ]
    },
    {
     "name": "stderr",
     "output_type": "stream",
     "text": [
      "192.168.1.10 - - [10/May/2022 02:00:09] \"POST /socket.io/?EIO=4&transport=polling&t=O2gWzYw&sid=Eyw1sZ6Wp24kZB98AAAA HTTP/1.1\" 200 -\n",
      "192.168.1.10 - - [10/May/2022 02:00:09] \"GET /socket.io/?EIO=4&transport=polling&t=O2gWxgi&sid=Eyw1sZ6Wp24kZB98AAAA HTTP/1.1\" 200 -\n"
     ]
    },
    {
     "name": "stdout",
     "output_type": "stream",
     "text": [
      "disconnected\n"
     ]
    },
    {
     "name": "stderr",
     "output_type": "stream",
     "text": [
      "192.168.1.10 - - [10/May/2022 02:00:12] \"GET / HTTP/1.1\" 200 -\n",
      "192.168.1.10 - - [10/May/2022 02:00:12] \"GET /socket.io/?EIO=4&transport=polling&t=O2gW-P5 HTTP/1.1\" 200 -\n",
      "192.168.1.10 - - [10/May/2022 02:00:12] \"GET /video_feed HTTP/1.1\" 200 -\n",
      "192.168.1.10 - - [10/May/2022 02:00:12] \"POST /socket.io/?EIO=4&transport=polling&t=O2gW-PH&sid=ZUN03bvnLrMzBPMrAAAC HTTP/1.1\" 200 -\n",
      "192.168.1.10 - - [10/May/2022 02:00:12] \"GET /socket.io/?EIO=4&transport=polling&t=O2gW-PJ&sid=ZUN03bvnLrMzBPMrAAAC HTTP/1.1\" 200 -\n",
      "192.168.1.10 - - [10/May/2022 02:00:12] \"POST /socket.io/?EIO=4&transport=polling&t=O2gW-Pk&sid=ZUN03bvnLrMzBPMrAAAC HTTP/1.1\" 200 -\n"
     ]
    },
    {
     "name": "stdout",
     "output_type": "stream",
     "text": [
      "connected\n"
     ]
    },
    {
     "name": "stderr",
     "output_type": "stream",
     "text": [
      "192.168.1.10 - - [10/May/2022 02:00:14] \"POST /socket.io/?EIO=4&transport=polling&t=O2gW-se&sid=ZUN03bvnLrMzBPMrAAAC HTTP/1.1\" 200 -\n",
      "192.168.1.10 - - [10/May/2022 02:00:14] \"GET /socket.io/?EIO=4&transport=polling&t=O2gW-Pl&sid=ZUN03bvnLrMzBPMrAAAC HTTP/1.1\" 200 -\n"
     ]
    },
    {
     "name": "stdout",
     "output_type": "stream",
     "text": [
      "disconnected\n"
     ]
    }
   ],
   "source": [
    "\n",
    "import time\n",
    "import cv2 \n",
    "from flask import Flask, render_template, Response\n",
    "import numpy as np\n",
    "import cv2\n",
    "import os\n",
    "import imutils\n",
    "from threading import Thread\n",
    "from flask_socketio import SocketIO\n",
    "\n",
    "app = Flask(__name__)\n",
    "app.config['SECRET_KEY'] = 'secret!'\n",
    "socketio = SocketIO(app)\n",
    "imm=None\n",
    "number=0\n",
    "count = 0\n",
    "@app.route('/')\n",
    "def index():\n",
    "    \"\"\"Video streaming home page.\"\"\"\n",
    "    return render_template('index.html')\n",
    "\n",
    "NMS_THRESHOLD=0.2\n",
    "MIN_CONFIDENCE=0.2\n",
    "def pedestrian_detection(image, model, layer_name, personidz=0):\n",
    "    (H, W) = image.shape[:2]\n",
    "    results = []\n",
    "    blob = cv2.dnn.blobFromImage(image, 1 / 255.0, (416, 416),\n",
    "        swapRB=True, crop=False)\n",
    "    model.setInput(blob)\n",
    "    layerOutputs = model.forward(layer_name)\n",
    "    boxes = []\n",
    "    centroids = []\n",
    "    confidences = []\n",
    "    global number\n",
    "    number=0\n",
    "    for output in layerOutputs:\n",
    "        for detection in output:\n",
    "            scores = detection[5:]\n",
    "            classID = np.argmax(scores)\n",
    "            confidence = scores[classID]\n",
    "            if classID == personidz and confidence > MIN_CONFIDENCE:\n",
    "                box = detection[0:4] * np.array([W, H, W, H])\n",
    "                (centerX, centerY, width, height) = box.astype(\"int\")\n",
    "                x = int(centerX - (width / 2))\n",
    "                y = int(centerY - (height / 2))\n",
    "                boxes.append([x, y, int(width), int(height)])\n",
    "                centroids.append((centerX, centerY))\n",
    "                confidences.append(float(confidence))\n",
    "    idzs = cv2.dnn.NMSBoxes(boxes, confidences, MIN_CONFIDENCE, NMS_THRESHOLD)\n",
    "    number=len(idzs)\n",
    "    if len(idzs) > 0:\n",
    "        for i in idzs.flatten():\n",
    "            (x, y) = (boxes[i][0], boxes[i][1])\n",
    "            (w, h) = (boxes[i][2], boxes[i][3])\n",
    "            res = (confidences[i], (x, y, x + w, y + h), centroids[i])\n",
    "            results.append(res)\n",
    "    return results\n",
    "\n",
    "labelsPath = \"coco.names\"\n",
    "LABELS = open(labelsPath).read().strip().split(\"\\n\")\n",
    "\n",
    "weights_path = \"yolov4-tiny.weights\"\n",
    "config_path = \"yolov4-tiny.cfg\"\n",
    "\n",
    "model = cv2.dnn.readNetFromDarknet(config_path, weights_path)\n",
    "'''\n",
    "model.setPreferableBackend(cv2.dnn.DNN_BACKEND_CUDA)\n",
    "model.setPreferableTarget(cv2.dnn.DNN_TARGET_CUDA)\n",
    "'''\n",
    "layer_name = model.getLayerNames()\n",
    "layer_name = [layer_name[i - 1] for i in model.getUnconnectedOutLayers()]\n",
    "cap = cv2.VideoCapture(0)\n",
    "writer = None\n",
    "\n",
    "def gen():\n",
    "    print(\"1\")\n",
    "    flag=1\n",
    "    while True:\n",
    "        (grabbed, image) = cap.read()\n",
    "\n",
    "        if not grabbed:\n",
    "            break\n",
    "        image = imutils.resize(image, width=900)\n",
    "        results = pedestrian_detection(image, model, layer_name,\n",
    "            personidz=LABELS.index(\"person\"))\n",
    "\n",
    "        for res in results:\n",
    "            cv2.rectangle(image, (res[1][0],res[1][1]), (res[1][2],res[1][3]), (0, 255, 0), 2)\n",
    "        \n",
    "        # font\n",
    "        font = cv2.FONT_HERSHEY_SIMPLEX\n",
    "\n",
    "        # org\n",
    "        org = (5, 35)\n",
    "        org2 = (5, 75)\n",
    "        # fontScale\n",
    "        fontScale = 1\n",
    "\n",
    "        # Blue color in BGR\n",
    "        color = (0, 255, 0)\n",
    "\n",
    "        # Line thickness of 2 px\n",
    "        thickness = 2\n",
    "        \n",
    "        global number\n",
    "        global count\n",
    "        image = cv2.putText(image, str(number) + ' Person(s) visible', org, font, fontScale, color, thickness, cv2.LINE_AA)\n",
    "        image = cv2.putText(image, str(count) + ' Watching', org2, font, fontScale, color, thickness, cv2.LINE_AA)\n",
    "        #cv2.imshow(\"Detection\",image)\n",
    "\n",
    "        key = cv2.waitKey(1)\n",
    "        if key == 27:\n",
    "            break\n",
    "        image = cv2.imencode('.jpg', image)[1].tobytes()\n",
    "        global imm\n",
    "        imm=image\n",
    "        #yield (b'--frame\\r\\n'b'Content-Type: image/jpeg\\r\\n\\r\\n' + image + b'\\r\\n')\n",
    "        #time.sleep(0.1)\n",
    "    cap.release()\n",
    "    cv2.destroyAllWindows()\n",
    "    pass\n",
    "\n",
    "def gen2():\n",
    "    global imm\n",
    "    global number\n",
    "    global count\n",
    "    #count=count+1\n",
    "    while True:\n",
    "        #print('2')\n",
    "        time.sleep(0.05)\n",
    "        yield (b'--frame\\r\\n'b'Content-Type: image/jpeg\\r\\n\\r\\n' + imm + b'\\r\\n')\n",
    "    #print('3')\n",
    "    #count=count-1\n",
    "@app.route('/video_feed')\n",
    "def video_feed():\n",
    "    global imm\n",
    "    global count\n",
    "    return Response(gen2(),\n",
    "                    mimetype='multipart/x-mixed-replace; boundary=frame')\n",
    "\n",
    "\n",
    "@socketio.on('connect')\n",
    "def connect(auth):\n",
    "    print('connected')\n",
    "    global count\n",
    "    count=count+1\n",
    "    #emit('status', {'count': count}, broadcast=True)\n",
    "\n",
    "@socketio.on('disconnect')\n",
    "def disconnect():\n",
    "    print('disconnected')\n",
    "    global count\n",
    "    count=count-1\n",
    "    #emit('status', {'count': count}, broadcast=True)\n",
    "\n",
    "\n",
    "thread = Thread(target = gen)\n",
    "thread.start()   \n",
    "socketio.run(app, host='0.0.0.0',port=555)\n",
    "#app.run(host='0.0.0.0',port=555)"
   ]
  },
  {
   "cell_type": "code",
   "execution_count": null,
   "id": "d17bd785",
   "metadata": {},
   "outputs": [],
   "source": []
  },
  {
   "cell_type": "code",
   "execution_count": null,
   "id": "9747e532",
   "metadata": {},
   "outputs": [],
   "source": []
  }
 ],
 "metadata": {
  "kernelspec": {
   "display_name": "Python 3 (ipykernel)",
   "language": "python",
   "name": "python3"
  },
  "language_info": {
   "codemirror_mode": {
    "name": "ipython",
    "version": 3
   },
   "file_extension": ".py",
   "mimetype": "text/x-python",
   "name": "python",
   "nbconvert_exporter": "python",
   "pygments_lexer": "ipython3",
   "version": "3.9.7"
  }
 },
 "nbformat": 4,
 "nbformat_minor": 5
}
